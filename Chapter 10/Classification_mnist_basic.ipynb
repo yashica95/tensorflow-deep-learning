{
  "nbformat": 4,
  "nbformat_minor": 0,
  "metadata": {
    "colab": {
      "name": "Classification-mnist-basic.ipynb",
      "provenance": []
    },
    "kernelspec": {
      "name": "python3",
      "display_name": "Python 3"
    },
    "language_info": {
      "name": "python"
    }
  },
  "cells": [
    {
      "cell_type": "code",
      "execution_count": 1,
      "metadata": {
        "id": "AHBixaOV1EmP"
      },
      "outputs": [],
      "source": [
        "import tensorflow as tf\n",
        "from tensorflow import keras"
      ]
    },
    {
      "cell_type": "code",
      "source": [
        "data = keras.datasets.fashion_mnist\n",
        "(X_train_full,y_train_full),(X_test,y_test) = data.load_data()"
      ],
      "metadata": {
        "id": "LeY1Gf7s1Kkg",
        "colab": {
          "base_uri": "https://localhost:8080/"
        },
        "outputId": "39fac02e-4652-48a6-a7eb-ab56673e4b6b"
      },
      "execution_count": 2,
      "outputs": [
        {
          "output_type": "stream",
          "name": "stdout",
          "text": [
            "Downloading data from https://storage.googleapis.com/tensorflow/tf-keras-datasets/train-labels-idx1-ubyte.gz\n",
            "32768/29515 [=================================] - 0s 0us/step\n",
            "40960/29515 [=========================================] - 0s 0us/step\n",
            "Downloading data from https://storage.googleapis.com/tensorflow/tf-keras-datasets/train-images-idx3-ubyte.gz\n",
            "26427392/26421880 [==============================] - 0s 0us/step\n",
            "26435584/26421880 [==============================] - 0s 0us/step\n",
            "Downloading data from https://storage.googleapis.com/tensorflow/tf-keras-datasets/t10k-labels-idx1-ubyte.gz\n",
            "16384/5148 [===============================================================================================] - 0s 0us/step\n",
            "Downloading data from https://storage.googleapis.com/tensorflow/tf-keras-datasets/t10k-images-idx3-ubyte.gz\n",
            "4423680/4422102 [==============================] - 0s 0us/step\n",
            "4431872/4422102 [==============================] - 0s 0us/step\n"
          ]
        }
      ]
    },
    {
      "cell_type": "code",
      "source": [
        "X_train_full.shape"
      ],
      "metadata": {
        "colab": {
          "base_uri": "https://localhost:8080/"
        },
        "id": "q2-iAFtD1mcu",
        "outputId": "bbc88977-71e7-405a-b9b8-bf1dd498407c"
      },
      "execution_count": 3,
      "outputs": [
        {
          "output_type": "execute_result",
          "data": {
            "text/plain": [
              "(60000, 28, 28)"
            ]
          },
          "metadata": {},
          "execution_count": 3
        }
      ]
    },
    {
      "cell_type": "code",
      "source": [
        "X_test.shape"
      ],
      "metadata": {
        "colab": {
          "base_uri": "https://localhost:8080/"
        },
        "id": "zomVwdKo1nk_",
        "outputId": "6477f66b-eb32-4288-d678-6758319c590b"
      },
      "execution_count": 4,
      "outputs": [
        {
          "output_type": "execute_result",
          "data": {
            "text/plain": [
              "(10000, 28, 28)"
            ]
          },
          "metadata": {},
          "execution_count": 4
        }
      ]
    },
    {
      "cell_type": "code",
      "source": [
        "#create valid daatset and scale the input to 0-1 range \n",
        "X_train = X_train_full/255.0"
      ],
      "metadata": {
        "id": "LprGAPLe17dZ"
      },
      "execution_count": 5,
      "outputs": []
    },
    {
      "cell_type": "code",
      "source": [
        "X_test = X_test/255.0"
      ],
      "metadata": {
        "id": "TKitwmXv2OVA"
      },
      "execution_count": 6,
      "outputs": []
    },
    {
      "cell_type": "code",
      "source": [
        "model = keras.Sequential([\n",
        "        keras.layers.Flatten(input_shape=[28,28]),\n",
        "        keras.layers.Dense(300, activation='relu'),\n",
        "        keras.layers.Dense(100, activation='relu'),\n",
        "        keras.layers.Dense(10, activation='softmax')\n",
        "\n",
        "])"
      ],
      "metadata": {
        "id": "wH_Zfcnx2UdF"
      },
      "execution_count": 14,
      "outputs": []
    },
    {
      "cell_type": "code",
      "source": [
        "model.summary()"
      ],
      "metadata": {
        "colab": {
          "base_uri": "https://localhost:8080/"
        },
        "id": "Sea53fpQ3Vgi",
        "outputId": "e103fb95-f48c-4919-9646-8d7ca21c37e3"
      },
      "execution_count": 15,
      "outputs": [
        {
          "output_type": "stream",
          "name": "stdout",
          "text": [
            "Model: \"sequential_1\"\n",
            "_________________________________________________________________\n",
            " Layer (type)                Output Shape              Param #   \n",
            "=================================================================\n",
            " flatten_1 (Flatten)         (None, 784)               0         \n",
            "                                                                 \n",
            " dense_3 (Dense)             (None, 300)               235500    \n",
            "                                                                 \n",
            " dense_4 (Dense)             (None, 100)               30100     \n",
            "                                                                 \n",
            " dense_5 (Dense)             (None, 10)                1010      \n",
            "                                                                 \n",
            "=================================================================\n",
            "Total params: 266,610\n",
            "Trainable params: 266,610\n",
            "Non-trainable params: 0\n",
            "_________________________________________________________________\n"
          ]
        }
      ]
    },
    {
      "cell_type": "code",
      "source": [
        "keras.utils.plot_model(model)"
      ],
      "metadata": {
        "colab": {
          "base_uri": "https://localhost:8080/",
          "height": 466
        },
        "id": "Uzo6yI-m3iYs",
        "outputId": "c1a4d45e-a07a-49b7-cbdd-789d888c101b"
      },
      "execution_count": 16,
      "outputs": [
        {
          "output_type": "execute_result",
          "data": {
            "text/plain": [
              "<IPython.core.display.Image object>"
            ],
            "image/png": "[encoded data removed]"
          },
          "metadata": {},
          "execution_count": 16
        }
      ]
    },
    {
      "cell_type": "code",
      "source": [
        "model.layers[1]"
      ],
      "metadata": {
        "colab": {
          "base_uri": "https://localhost:8080/"
        },
        "id": "ODzAw3xx3u55",
        "outputId": "8caff72b-6a46-4989-f9f1-1011187f1b57"
      },
      "execution_count": 17,
      "outputs": [
        {
          "output_type": "execute_result",
          "data": {
            "text/plain": [
              "<keras.layers.core.dense.Dense at 0x7f8f53d3e390>"
            ]
          },
          "metadata": {},
          "execution_count": 17
        }
      ]
    },
    {
      "cell_type": "code",
      "source": [
        "model.compile(loss='sparse_categorical_crossentropy', metrics=['accuracy'],optimizer='sgd')\n",
        "\n",
        "#using sparse categorical crossentropy because the output is 0-9 classes and not one-hot encoded type multilable \n",
        "#in that case, we could convert using keras.utils.to_categorical and then use cross_entropy as loss \n",
        "# if it was binary classfication, we would us sigmoid as activation function in last layer and binary_crossentropy as loss "
      ],
      "metadata": {
        "id": "9rTASb-W4ZjT"
      },
      "execution_count": 18,
      "outputs": []
    },
    {
      "cell_type": "code",
      "source": [
        "history = model.fit(x=X_train, y=y_train_full, batch_size=32, epochs=5,validation_split=0.1)\n",
        "\n",
        "#don;t need to create validation dataset manually. validation_split option shuffles and splits the data \n",
        "#class_weight option can be used for imbalanced classes by providing a dict of classes and their weights "
      ],
      "metadata": {
        "colab": {
          "base_uri": "https://localhost:8080/"
        },
        "id": "Ssqe84cQ5AoS",
        "outputId": "4d17be94-5cd9-4e56-e4fe-bd77404264d2"
      },
      "execution_count": 19,
      "outputs": [
        {
          "output_type": "stream",
          "name": "stdout",
          "text": [
            "Epoch 1/5\n",
            "1688/1688 [==============================] - 8s 4ms/step - loss: 0.7103 - accuracy: 0.7655 - val_loss: 0.5128 - val_accuracy: 0.8237\n",
            "Epoch 2/5\n",
            "1688/1688 [==============================] - 7s 4ms/step - loss: 0.4865 - accuracy: 0.8305 - val_loss: 0.4703 - val_accuracy: 0.8317\n",
            "Epoch 3/5\n",
            "1688/1688 [==============================] - 7s 4ms/step - loss: 0.4426 - accuracy: 0.8454 - val_loss: 0.4315 - val_accuracy: 0.8463\n",
            "Epoch 4/5\n",
            "1688/1688 [==============================] - 7s 4ms/step - loss: 0.4162 - accuracy: 0.8551 - val_loss: 0.4641 - val_accuracy: 0.8407\n",
            "Epoch 5/5\n",
            "1688/1688 [==============================] - 9s 5ms/step - loss: 0.3954 - accuracy: 0.8613 - val_loss: 0.4141 - val_accuracy: 0.8492\n"
          ]
        }
      ]
    },
    {
      "cell_type": "code",
      "source": [
        "history.params"
      ],
      "metadata": {
        "colab": {
          "base_uri": "https://localhost:8080/"
        },
        "id": "GDyJVw946Duq",
        "outputId": "e284b00a-6d99-4538-e765-f419e9945226"
      },
      "execution_count": 20,
      "outputs": [
        {
          "output_type": "execute_result",
          "data": {
            "text/plain": [
              "{'epochs': 5, 'steps': 1688, 'verbose': 1}"
            ]
          },
          "metadata": {},
          "execution_count": 20
        }
      ]
    },
    {
      "cell_type": "code",
      "source": [
        "history.epoch"
      ],
      "metadata": {
        "colab": {
          "base_uri": "https://localhost:8080/"
        },
        "id": "mBhlH3zZ_K-l",
        "outputId": "39f71437-bf2a-49fe-b649-f39b53128f4a"
      },
      "execution_count": 21,
      "outputs": [
        {
          "output_type": "execute_result",
          "data": {
            "text/plain": [
              "[0, 1, 2, 3, 4]"
            ]
          },
          "metadata": {},
          "execution_count": 21
        }
      ]
    },
    {
      "cell_type": "code",
      "source": [
        "history.history\n",
        "#The dictionary that stores the info at each epoch"
      ],
      "metadata": {
        "colab": {
          "base_uri": "https://localhost:8080/"
        },
        "id": "QWS9YnTa_Qn4",
        "outputId": "bd3e317e-7436-4308-d1b5-6e5545b92b08"
      },
      "execution_count": 22,
      "outputs": [
        {
          "output_type": "execute_result",
          "data": {
            "text/plain": [
              "{'accuracy': [0.765500009059906,\n",
              "  0.8305000066757202,\n",
              "  0.845370352268219,\n",
              "  0.8550740480422974,\n",
              "  0.8613148331642151],\n",
              " 'loss': [0.7102954983711243,\n",
              "  0.4865277409553528,\n",
              "  0.44261065125465393,\n",
              "  0.41618794202804565,\n",
              "  0.3953724205493927],\n",
              " 'val_accuracy': [0.8236666917800903,\n",
              "  0.8316666483879089,\n",
              "  0.8463333249092102,\n",
              "  0.840666651725769,\n",
              "  0.8491666913032532],\n",
              " 'val_loss': [0.5127506852149963,\n",
              "  0.4703288674354553,\n",
              "  0.43153584003448486,\n",
              "  0.4641013443470001,\n",
              "  0.41414836049079895]}"
            ]
          },
          "metadata": {},
          "execution_count": 22
        }
      ]
    },
    {
      "cell_type": "code",
      "source": [
        "import pandas as pd\n",
        "import matplotlib.pyplot as plt\n",
        "\n",
        "pd.DataFrame(history.history).plot(figsize=(8, 5)) \n",
        "plt.grid(True)\n",
        "plt.gca().set_ylim(0, 1) # set the vertical range to [0-1] plt.show()"
      ],
      "metadata": {
        "colab": {
          "base_uri": "https://localhost:8080/",
          "height": 342
        },
        "id": "PN_pVP7d_SaI",
        "outputId": "cf23d329-74f4-495f-d2c4-7eebec026c45"
      },
      "execution_count": 23,
      "outputs": [
        {
          "output_type": "execute_result",
          "data": {
            "text/plain": [
              "(0.0, 1.0)"
            ]
          },
          "metadata": {},
          "execution_count": 23
        },
        {
          "output_type": "display_data",
          "data": {
            "text/plain": [
              "<Figure size 576x360 with 1 Axes>"
            ],
            "image/png": "[encoded data removed]"
          },
          "metadata": {
            "needs_background": "light"
          }
        }
      ]
    },
    {
      "cell_type": "markdown",
      "source": [
        "for training loss graph. it should be shifted by half epoch to the left"
      ],
      "metadata": {
        "id": "2h5uamHxAGx6"
      }
    },
    {
      "cell_type": "code",
      "source": [
        "model.evaluate(X_test,y_test)"
      ],
      "metadata": {
        "colab": {
          "base_uri": "https://localhost:8080/"
        },
        "id": "SiMCp_Lt_jYg",
        "outputId": "f7a67219-e9c6-4c25-b1c3-ee8578507bf5"
      },
      "execution_count": 24,
      "outputs": [
        {
          "output_type": "stream",
          "name": "stdout",
          "text": [
            "313/313 [==============================] - 1s 2ms/step - loss: 0.4398 - accuracy: 0.8432\n"
          ]
        },
        {
          "output_type": "execute_result",
          "data": {
            "text/plain": [
              "[0.4398316442966461, 0.8432000279426575]"
            ]
          },
          "metadata": {},
          "execution_count": 24
        }
      ]
    },
    {
      "cell_type": "code",
      "source": [
        "X_prob = X_test[:3]\n",
        "import numpy as np\n",
        "preds = model.predict(X_prob)\n",
        "classes_x=np.argmax(preds,axis=1)"
      ],
      "metadata": {
        "id": "yMYGnLDzAkOA"
      },
      "execution_count": 25,
      "outputs": []
    },
    {
      "cell_type": "code",
      "source": [
        "classes_x"
      ],
      "metadata": {
        "colab": {
          "base_uri": "https://localhost:8080/"
        },
        "id": "fuNW8ehrBte5",
        "outputId": "42a981ae-896a-4125-9f2d-40133d0520f9"
      },
      "execution_count": 26,
      "outputs": [
        {
          "output_type": "execute_result",
          "data": {
            "text/plain": [
              "array([9, 2, 1])"
            ]
          },
          "metadata": {},
          "execution_count": 26
        }
      ]
    },
    {
      "cell_type": "code",
      "source": [
        ""
      ],
      "metadata": {
        "id": "mmg9RPR_FLYv"
      },
      "execution_count": null,
      "outputs": []
    }
  ]
}
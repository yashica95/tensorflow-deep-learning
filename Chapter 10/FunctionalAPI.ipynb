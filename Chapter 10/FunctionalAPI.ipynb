{
  "nbformat": 4,
  "nbformat_minor": 0,
  "metadata": {
    "colab": {
      "name": "FunctionalAPI.ipynb",
      "provenance": [],
      "collapsed_sections": []
    },
    "kernelspec": {
      "name": "python3",
      "display_name": "Python 3"
    },
    "language_info": {
      "name": "python"
    }
  },
  "cells": [
    {
      "cell_type": "code",
      "execution_count": 1,
      "metadata": {
        "id": "2A0iBtt_brv9"
      },
      "outputs": [],
      "source": [
        "import tensorflow as tf\n",
        "from tensorflow import keras"
      ]
    },
    {
      "cell_type": "code",
      "source": [
        "data = keras.datasets.fashion_mnist\n",
        "(X_train_full,y_train_full),(X_test,y_test) = data.load_data()\n",
        "X_train = X_train_full/255.0\n",
        "X_test = X_test/255.0"
      ],
      "metadata": {
        "colab": {
          "base_uri": "https://localhost:8080/"
        },
        "id": "5vHVlipscjTv",
        "outputId": "bf8e9024-842d-44fc-8edc-c47c2d9e57e4"
      },
      "execution_count": 2,
      "outputs": [
        {
          "output_type": "stream",
          "name": "stdout",
          "text": [
            "Downloading data from https://storage.googleapis.com/tensorflow/tf-keras-datasets/train-labels-idx1-ubyte.gz\n",
            "32768/29515 [=================================] - 0s 0us/step\n",
            "40960/29515 [=========================================] - 0s 0us/step\n",
            "Downloading data from https://storage.googleapis.com/tensorflow/tf-keras-datasets/train-images-idx3-ubyte.gz\n",
            "26427392/26421880 [==============================] - 0s 0us/step\n",
            "26435584/26421880 [==============================] - 0s 0us/step\n",
            "Downloading data from https://storage.googleapis.com/tensorflow/tf-keras-datasets/t10k-labels-idx1-ubyte.gz\n",
            "16384/5148 [===============================================================================================] - 0s 0us/step\n",
            "Downloading data from https://storage.googleapis.com/tensorflow/tf-keras-datasets/t10k-images-idx3-ubyte.gz\n",
            "4423680/4422102 [==============================] - 0s 0us/step\n",
            "4431872/4422102 [==============================] - 0s 0us/step\n"
          ]
        }
      ]
    },
    {
      "cell_type": "code",
      "source": [
        "from threading import active_count\n",
        "input = keras.layers.Input(shape=X_train.shape[1:])\n",
        "hidden1 = keras.layers.Dense(units=300, activation='relu')(input)\n",
        "hidden2 = keras.layers.Dense(units=100, activation='relu')(hidden1)\n",
        "concat = keras.layers.Concatenate()([hidden2,input])\n",
        "output = keras.layers.Dense(10, activation='softmax')(concat)\n",
        "\n",
        "model = keras.Model(inputs=input, outputs=output)"
      ],
      "metadata": {
        "id": "qV8BwAVddFs9"
      },
      "execution_count": 7,
      "outputs": []
    },
    {
      "cell_type": "code",
      "source": [
        "model.compile(loss='sparse_categorical_crossentropy', metrics=['accuracy'],optimizer='sgd')"
      ],
      "metadata": {
        "id": "Qae47kdld_ru"
      },
      "execution_count": 8,
      "outputs": []
    },
    {
      "cell_type": "code",
      "source": [
        "model.summary()"
      ],
      "metadata": {
        "colab": {
          "base_uri": "https://localhost:8080/"
        },
        "id": "sLR0SS7ZeQjf",
        "outputId": "9a5ec940-0f2f-4fe8-9b65-6cd4ee00fb8a"
      },
      "execution_count": 9,
      "outputs": [
        {
          "output_type": "stream",
          "name": "stdout",
          "text": [
            "Model: \"model\"\n",
            "__________________________________________________________________________________________________\n",
            " Layer (type)                   Output Shape         Param #     Connected to                     \n",
            "==================================================================================================\n",
            " input_4 (InputLayer)           [(None, 28, 28)]     0           []                               \n",
            "                                                                                                  \n",
            " dense_7 (Dense)                (None, 28, 300)      8700        ['input_4[0][0]']                \n",
            "                                                                                                  \n",
            " dense_8 (Dense)                (None, 28, 100)      30100       ['dense_7[0][0]']                \n",
            "                                                                                                  \n",
            " concatenate_3 (Concatenate)    (None, 28, 128)      0           ['dense_8[0][0]',                \n",
            "                                                                  'input_4[0][0]']                \n",
            "                                                                                                  \n",
            " dense_9 (Dense)                (None, 28, 10)       1290        ['concatenate_3[0][0]']          \n",
            "                                                                                                  \n",
            "==================================================================================================\n",
            "Total params: 40,090\n",
            "Trainable params: 40,090\n",
            "Non-trainable params: 0\n",
            "__________________________________________________________________________________________________\n"
          ]
        }
      ]
    },
    {
      "cell_type": "code",
      "source": [
        "keras.utils.plot_model(model)"
      ],
      "metadata": {
        "colab": {
          "base_uri": "https://localhost:8080/",
          "height": 466
        },
        "id": "QnNXE_80eRWw",
        "outputId": "8340b640-c093-44e3-9ef7-60c4ffbea9e3"
      },
      "execution_count": 10,
      "outputs": [
        {
          "output_type": "execute_result",
          "data": {
            "text/plain": [
              "<IPython.core.display.Image object>"
            ],
            "image/png": "[encoded data removed]"
          },
          "metadata": {},
          "execution_count": 10
        }
      ]
    },
    {
      "cell_type": "markdown",
      "source": [
        "### Rather than passing the whole input in concatenate layer, we can train the hidden layers on a few features and then concatenate it with other features later on"
      ],
      "metadata": {
        "id": "mjImvfeLeic7"
      }
    },
    {
      "cell_type": "code",
      "source": [
        "X_train.shape"
      ],
      "metadata": {
        "colab": {
          "base_uri": "https://localhost:8080/"
        },
        "id": "iJQMDJoQe7s5",
        "outputId": "b06ee613-7e89-411c-ee88-983f3bd49919"
      },
      "execution_count": 13,
      "outputs": [
        {
          "output_type": "execute_result",
          "data": {
            "text/plain": [
              "(60000, 28, 28)"
            ]
          },
          "metadata": {},
          "execution_count": 13
        }
      ]
    },
    {
      "cell_type": "code",
      "source": [
        "X_train_A = X_train[:,:,:15]\n",
        "X_train_B = X_train[:,:,15:]"
      ],
      "metadata": {
        "id": "_Aqn62j1e075"
      },
      "execution_count": 17,
      "outputs": []
    },
    {
      "cell_type": "code",
      "source": [
        "input_A = keras.layers.Input(shape=X_train_A.shape[1:])\n",
        "input_B = keras.layers.Input(shape=X_train_B.shape[1:])\n",
        "flatten_a = keras.layers.Flatten()(input_A)\n",
        "flatten_b = keras.layers.Flatten()(input_B)\n",
        "hidden1 = keras.layers.Dense(units=300, activation='relu')(flatten_a)\n",
        "hidden2 = keras.layers.Dense(units=100, activation='relu')(hidden1)\n",
        "concat = keras.layers.Concatenate()([hidden2,flatten_b])\n",
        "output = keras.layers.Dense(10, activation='softmax')(concat)\n",
        "\n",
        "model = keras.Model(inputs=[input_A, input_B], outputs=output)"
      ],
      "metadata": {
        "id": "H3yvA7WbeTgU"
      },
      "execution_count": 26,
      "outputs": []
    },
    {
      "cell_type": "code",
      "source": [
        "model.compile(loss='sparse_categorical_crossentropy', metrics=['accuracy'],optimizer='sgd')"
      ],
      "metadata": {
        "id": "aJJ30uZYfLF0"
      },
      "execution_count": 27,
      "outputs": []
    },
    {
      "cell_type": "code",
      "source": [
        "model.summary()"
      ],
      "metadata": {
        "colab": {
          "base_uri": "https://localhost:8080/"
        },
        "id": "qjK1cPPPfhQZ",
        "outputId": "d68069b8-c9b2-478b-af52-34872e215123"
      },
      "execution_count": 28,
      "outputs": [
        {
          "output_type": "stream",
          "name": "stdout",
          "text": [
            "Model: \"model_3\"\n",
            "__________________________________________________________________________________________________\n",
            " Layer (type)                   Output Shape         Param #     Connected to                     \n",
            "==================================================================================================\n",
            " input_11 (InputLayer)          [(None, 28, 15)]     0           []                               \n",
            "                                                                                                  \n",
            " flatten (Flatten)              (None, 420)          0           ['input_11[0][0]']               \n",
            "                                                                                                  \n",
            " dense_18 (Dense)               (None, 300)          126300      ['flatten[0][0]']                \n",
            "                                                                                                  \n",
            " input_12 (InputLayer)          [(None, 28, 13)]     0           []                               \n",
            "                                                                                                  \n",
            " dense_19 (Dense)               (None, 100)          30100       ['dense_18[0][0]']               \n",
            "                                                                                                  \n",
            " flatten_1 (Flatten)            (None, 364)          0           ['input_12[0][0]']               \n",
            "                                                                                                  \n",
            " concatenate_7 (Concatenate)    (None, 464)          0           ['dense_19[0][0]',               \n",
            "                                                                  'flatten_1[0][0]']              \n",
            "                                                                                                  \n",
            " dense_20 (Dense)               (None, 10)           4650        ['concatenate_7[0][0]']          \n",
            "                                                                                                  \n",
            "==================================================================================================\n",
            "Total params: 161,050\n",
            "Trainable params: 161,050\n",
            "Non-trainable params: 0\n",
            "__________________________________________________________________________________________________\n"
          ]
        }
      ]
    },
    {
      "cell_type": "code",
      "source": [
        "keras.utils.plot_model(model)"
      ],
      "metadata": {
        "colab": {
          "base_uri": "https://localhost:8080/",
          "height": 564
        },
        "id": "C6gyh0IxfiJc",
        "outputId": "27514cf5-6187-4d44-99d5-2dd5a8196e9d"
      },
      "execution_count": 29,
      "outputs": [
        {
          "output_type": "execute_result",
          "data": {
            "text/plain": [
              "<IPython.core.display.Image object>"
            ],
            "image/png": "[encoded data removed]"
          },
          "metadata": {},
          "execution_count": 29
        }
      ]
    },
    {
      "cell_type": "code",
      "source": [
        "history= model.fit(x=[X_train_A, X_train_B], y=y_train_full, validation_split=0.1, epochs=5)"
      ],
      "metadata": {
        "colab": {
          "base_uri": "https://localhost:8080/"
        },
        "id": "_yRJpPMafkLY",
        "outputId": "c501f134-5ea1-47e9-afab-e17338f3cbc0"
      },
      "execution_count": 30,
      "outputs": [
        {
          "output_type": "stream",
          "name": "stdout",
          "text": [
            "Epoch 1/5\n",
            "1688/1688 [==============================] - 8s 4ms/step - loss: 0.8519 - accuracy: 0.7279 - val_loss: 0.5990 - val_accuracy: 0.7993\n",
            "Epoch 2/5\n",
            "1688/1688 [==============================] - 7s 4ms/step - loss: 0.5508 - accuracy: 0.8131 - val_loss: 0.5005 - val_accuracy: 0.8228\n",
            "Epoch 3/5\n",
            "1688/1688 [==============================] - 6s 4ms/step - loss: 0.4943 - accuracy: 0.8272 - val_loss: 0.4653 - val_accuracy: 0.8342\n",
            "Epoch 4/5\n",
            "1688/1688 [==============================] - 6s 4ms/step - loss: 0.4644 - accuracy: 0.8372 - val_loss: 0.4640 - val_accuracy: 0.8372\n",
            "Epoch 5/5\n",
            "1688/1688 [==============================] - 6s 4ms/step - loss: 0.4453 - accuracy: 0.8436 - val_loss: 0.4363 - val_accuracy: 0.8442\n"
          ]
        }
      ]
    },
    {
      "cell_type": "code",
      "source": [
        "import pandas as pd\n",
        "\n",
        "history_data = pd.DataFrame(history.history)\n",
        "history_data.plot()"
      ],
      "metadata": {
        "colab": {
          "base_uri": "https://localhost:8080/",
          "height": 283
        },
        "id": "JSIiCQ9zfx-0",
        "outputId": "973dc7e9-a2c2-4b03-d11c-ead4e35db4d6"
      },
      "execution_count": 31,
      "outputs": [
        {
          "output_type": "execute_result",
          "data": {
            "text/plain": [
              "<matplotlib.axes._subplots.AxesSubplot at 0x7f4a65e46610>"
            ]
          },
          "metadata": {},
          "execution_count": 31
        },
        {
          "output_type": "display_data",
          "data": {
            "text/plain": [
              "<Figure size 432x288 with 1 Axes>"
            ],
            "image/png": "[encoded data removed]"
          },
          "metadata": {
            "needs_background": "light"
          }
        }
      ]
    },
    {
      "cell_type": "markdown",
      "source": [
        "### The functional API could also be useful if the output required are in different format - for ex- we need both regression and classification model on a dataset. \n",
        "\n",
        "### Rather than training different models for each task, we can have different output layer for each task - more efficient since the model learns features that might be useful across tasks.\n",
        "\n",
        "### or it could just be for regularization"
      ],
      "metadata": {
        "id": "KlehPCJpinbA"
      }
    },
    {
      "cell_type": "code",
      "source": [
        "#in case of multiple outputs, we need to pass loss function for each of the output layer \n",
        "#We could give weights to each of the losses for the final loss summation \n",
        "\n",
        "#model.compile(loss=['rmsprop', 'mse'], loss_weights=[0.9,0.1], optimizer='sgd')"
      ],
      "metadata": {
        "id": "YNViwzftf-pP"
      },
      "execution_count": null,
      "outputs": []
    }
  ]
}
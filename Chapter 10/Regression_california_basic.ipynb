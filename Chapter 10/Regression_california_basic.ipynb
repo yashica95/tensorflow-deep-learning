{
  "nbformat": 4,
  "nbformat_minor": 0,
  "metadata": {
    "colab": {
      "name": "Regression-california-basic.ipynb",
      "provenance": []
    },
    "kernelspec": {
      "name": "python3",
      "display_name": "Python 3"
    },
    "language_info": {
      "name": "python"
    }
  },
  "cells": [
    {
      "cell_type": "code",
      "execution_count": 2,
      "metadata": {
        "id": "3gj-8UheWzDB"
      },
      "outputs": [],
      "source": [
        "import tensorflow as tf\n",
        "from tensorflow import keras"
      ]
    },
    {
      "cell_type": "code",
      "source": [
        "from sklearn.datasets import fetch_california_housing\n",
        "from sklearn.model_selection import train_test_split\n",
        "from sklearn.preprocessing import StandardScaler"
      ],
      "metadata": {
        "id": "8UGldrpjW9tP"
      },
      "execution_count": 3,
      "outputs": []
    },
    {
      "cell_type": "code",
      "source": [
        "data,target = fetch_california_housing(return_X_y=True)"
      ],
      "metadata": {
        "id": "vqaLBx2aXXku"
      },
      "execution_count": 4,
      "outputs": []
    },
    {
      "cell_type": "code",
      "source": [
        "X_full,X_test,y_full,y_test = train_test_split(data, target, train_size=0.7, random_state=0)"
      ],
      "metadata": {
        "id": "E6CYQOU_XvGt"
      },
      "execution_count": 11,
      "outputs": []
    },
    {
      "cell_type": "code",
      "source": [
        "X_full.shape"
      ],
      "metadata": {
        "colab": {
          "base_uri": "https://localhost:8080/"
        },
        "id": "TGnEma5sX5PP",
        "outputId": "23e6dbf1-737d-49ea-e01f-531c8c74dc85"
      },
      "execution_count": 12,
      "outputs": [
        {
          "output_type": "execute_result",
          "data": {
            "text/plain": [
              "(14447, 8)"
            ]
          },
          "metadata": {},
          "execution_count": 12
        }
      ]
    },
    {
      "cell_type": "code",
      "source": [
        "X_test.shape"
      ],
      "metadata": {
        "colab": {
          "base_uri": "https://localhost:8080/"
        },
        "id": "yx0V2V2CX6PL",
        "outputId": "fcea1d49-7c01-47ef-c7cc-cda643ca3a60"
      },
      "execution_count": 13,
      "outputs": [
        {
          "output_type": "execute_result",
          "data": {
            "text/plain": [
              "(6193, 8)"
            ]
          },
          "metadata": {},
          "execution_count": 13
        }
      ]
    },
    {
      "cell_type": "code",
      "source": [
        "scaler = StandardScaler()\n",
        "X_train = scaler.fit_transform(X_full)\n",
        "X_test = scaler.transform(X_test)"
      ],
      "metadata": {
        "id": "D_alSEX8YJz8"
      },
      "execution_count": 14,
      "outputs": []
    },
    {
      "cell_type": "code",
      "source": [
        "model = keras.models.Sequential([\n",
        "        keras.layers.Dense(30, activation='relu', input_shape=X_train.shape[1:]),\n",
        "        keras.layers.Dense(1)                    \n",
        "\n",
        "]\n",
        ")"
      ],
      "metadata": {
        "id": "dKGbzDngYRrj"
      },
      "execution_count": 18,
      "outputs": []
    },
    {
      "cell_type": "code",
      "source": [
        "model.summary()"
      ],
      "metadata": {
        "colab": {
          "base_uri": "https://localhost:8080/"
        },
        "id": "sz4hPdzgYWOb",
        "outputId": "edaeb7cf-49a8-453a-bd63-8d1c62e72113"
      },
      "execution_count": 19,
      "outputs": [
        {
          "output_type": "stream",
          "name": "stdout",
          "text": [
            "Model: \"sequential\"\n",
            "_________________________________________________________________\n",
            " Layer (type)                Output Shape              Param #   \n",
            "=================================================================\n",
            " dense_1 (Dense)             (None, 30)                270       \n",
            "                                                                 \n",
            " dense_2 (Dense)             (None, 1)                 31        \n",
            "                                                                 \n",
            "=================================================================\n",
            "Total params: 301\n",
            "Trainable params: 301\n",
            "Non-trainable params: 0\n",
            "_________________________________________________________________\n"
          ]
        }
      ]
    },
    {
      "cell_type": "code",
      "source": [
        "keras.utils.plot_model(model)"
      ],
      "metadata": {
        "colab": {
          "base_uri": "https://localhost:8080/",
          "height": 272
        },
        "id": "uk6b4VzaZADL",
        "outputId": "abeeaa33-fb06-42a8-857c-2537949bb61c"
      },
      "execution_count": 20,
      "outputs": [
        {
          "output_type": "execute_result",
          "data": {
            "text/plain": [
              "<IPython.core.display.Image object>"
            ],
            "image/png": "[encoded data removed]"
          },
          "metadata": {},
          "execution_count": 20
        }
      ]
    },
    {
      "cell_type": "code",
      "source": [
        "model.compile(loss='mean_squared_error', \n",
        "                    optimizer='sgd', metrics=['accuracy', 'mse'])"
      ],
      "metadata": {
        "id": "q_urO_ibZiOc"
      },
      "execution_count": 24,
      "outputs": []
    },
    {
      "cell_type": "code",
      "source": [
        "history = model.fit(x=X_train, \n",
        "                    y=y_train,\n",
        "                    epochs=20, \n",
        "                    batch_size=32,\n",
        "                    validation_split=0.2\n",
        "                    )"
      ],
      "metadata": {
        "colab": {
          "base_uri": "https://localhost:8080/"
        },
        "id": "AeEJ-s-zZF5Y",
        "outputId": "645b7ddb-c456-4296-d34f-e3c4bd53646a"
      },
      "execution_count": 25,
      "outputs": [
        {
          "output_type": "stream",
          "name": "stdout",
          "text": [
            "Epoch 1/20\n",
            "362/362 [==============================] - 2s 4ms/step - loss: 1.3204 - accuracy: 0.0029 - mse: 1.3204 - val_loss: 1.3364 - val_accuracy: 0.0028 - val_mse: 1.3364\n",
            "Epoch 2/20\n",
            "362/362 [==============================] - 1s 4ms/step - loss: 1.3209 - accuracy: 0.0029 - mse: 1.3209 - val_loss: 1.3326 - val_accuracy: 0.0028 - val_mse: 1.3326\n",
            "Epoch 3/20\n",
            "362/362 [==============================] - 1s 4ms/step - loss: 1.3194 - accuracy: 0.0029 - mse: 1.3194 - val_loss: 1.3745 - val_accuracy: 0.0028 - val_mse: 1.3745\n",
            "Epoch 4/20\n",
            "362/362 [==============================] - 1s 4ms/step - loss: 1.3198 - accuracy: 0.0029 - mse: 1.3198 - val_loss: 1.3419 - val_accuracy: 0.0028 - val_mse: 1.3419\n",
            "Epoch 5/20\n",
            "362/362 [==============================] - 1s 4ms/step - loss: 1.3188 - accuracy: 0.0029 - mse: 1.3188 - val_loss: 1.3336 - val_accuracy: 0.0028 - val_mse: 1.3336\n",
            "Epoch 6/20\n",
            "362/362 [==============================] - 1s 4ms/step - loss: 1.3181 - accuracy: 0.0029 - mse: 1.3181 - val_loss: 1.3354 - val_accuracy: 0.0028 - val_mse: 1.3354\n",
            "Epoch 7/20\n",
            "362/362 [==============================] - 1s 4ms/step - loss: 1.3189 - accuracy: 0.0029 - mse: 1.3189 - val_loss: 1.3422 - val_accuracy: 0.0028 - val_mse: 1.3422\n",
            "Epoch 8/20\n",
            "362/362 [==============================] - 1s 3ms/step - loss: 1.3188 - accuracy: 0.0029 - mse: 1.3188 - val_loss: 1.3393 - val_accuracy: 0.0028 - val_mse: 1.3393\n",
            "Epoch 9/20\n",
            "362/362 [==============================] - 1s 3ms/step - loss: 1.3169 - accuracy: 0.0029 - mse: 1.3169 - val_loss: 1.3280 - val_accuracy: 0.0028 - val_mse: 1.3280\n",
            "Epoch 10/20\n",
            "362/362 [==============================] - 1s 4ms/step - loss: 1.3156 - accuracy: 0.0029 - mse: 1.3156 - val_loss: 1.3351 - val_accuracy: 0.0028 - val_mse: 1.3351\n",
            "Epoch 11/20\n",
            "362/362 [==============================] - 1s 4ms/step - loss: 1.3164 - accuracy: 0.0029 - mse: 1.3164 - val_loss: 1.3294 - val_accuracy: 0.0028 - val_mse: 1.3294\n",
            "Epoch 12/20\n",
            "362/362 [==============================] - 1s 3ms/step - loss: 1.3153 - accuracy: 0.0029 - mse: 1.3153 - val_loss: 1.3298 - val_accuracy: 0.0028 - val_mse: 1.3298\n",
            "Epoch 13/20\n",
            "362/362 [==============================] - 1s 4ms/step - loss: 1.3154 - accuracy: 0.0029 - mse: 1.3154 - val_loss: 1.3628 - val_accuracy: 0.0028 - val_mse: 1.3628\n",
            "Epoch 14/20\n",
            "362/362 [==============================] - 2s 5ms/step - loss: 1.3162 - accuracy: 0.0029 - mse: 1.3162 - val_loss: 1.3285 - val_accuracy: 0.0028 - val_mse: 1.3285\n",
            "Epoch 15/20\n",
            "362/362 [==============================] - 1s 4ms/step - loss: 1.3145 - accuracy: 0.0029 - mse: 1.3145 - val_loss: 1.3383 - val_accuracy: 0.0028 - val_mse: 1.3383\n",
            "Epoch 16/20\n",
            "362/362 [==============================] - 1s 4ms/step - loss: 1.3153 - accuracy: 0.0029 - mse: 1.3153 - val_loss: 1.3388 - val_accuracy: 0.0028 - val_mse: 1.3388\n",
            "Epoch 17/20\n",
            "362/362 [==============================] - 1s 4ms/step - loss: 1.3157 - accuracy: 0.0029 - mse: 1.3157 - val_loss: 1.3300 - val_accuracy: 0.0028 - val_mse: 1.3300\n",
            "Epoch 18/20\n",
            "362/362 [==============================] - 1s 2ms/step - loss: 1.3156 - accuracy: 0.0029 - mse: 1.3156 - val_loss: 1.3272 - val_accuracy: 0.0028 - val_mse: 1.3272\n",
            "Epoch 19/20\n",
            "362/362 [==============================] - 1s 2ms/step - loss: 1.3144 - accuracy: 0.0029 - mse: 1.3144 - val_loss: 1.3254 - val_accuracy: 0.0028 - val_mse: 1.3254\n",
            "Epoch 20/20\n",
            "362/362 [==============================] - 1s 2ms/step - loss: 1.3149 - accuracy: 0.0029 - mse: 1.3149 - val_loss: 1.3296 - val_accuracy: 0.0028 - val_mse: 1.3296\n"
          ]
        }
      ]
    },
    {
      "cell_type": "code",
      "source": [
        "import matplotlib.pyplot as plt\n",
        "import pandas as pd\n",
        "\n",
        "data = pd.DataFrame(history.history)\n",
        "data[['accuracy', 'val_accuracy']].plot()\n",
        "\n",
        "plt.grid(True)\n",
        "plt.gca().set_ylim(0, 0.01);"
      ],
      "metadata": {
        "colab": {
          "base_uri": "https://localhost:8080/",
          "height": 269
        },
        "id": "4SE9oTveZfze",
        "outputId": "0df47b65-44d5-4017-9e38-22e422ed6a24"
      },
      "execution_count": 34,
      "outputs": [
        {
          "output_type": "display_data",
          "data": {
            "text/plain": [
              "<Figure size 432x288 with 1 Axes>"
            ],
            "image/png": "[encoded data removed]"
          },
          "metadata": {
            "needs_background": "light"
          }
        }
      ]
    },
    {
      "cell_type": "code",
      "source": [
        ""
      ],
      "metadata": {
        "id": "1dp8lOeHaQ_d"
      },
      "execution_count": null,
      "outputs": []
    }
  ]
}